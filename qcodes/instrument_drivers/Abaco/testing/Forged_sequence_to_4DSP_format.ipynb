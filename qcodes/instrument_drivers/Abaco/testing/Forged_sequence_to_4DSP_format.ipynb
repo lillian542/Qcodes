{
 "cells": [
  {
   "cell_type": "code",
   "execution_count": 1,
   "metadata": {},
   "outputs": [
    {
     "name": "stderr",
     "output_type": "stream",
     "text": [
      "/anaconda3/envs/qcodes/lib/python3.6/site-packages/h5py/__init__.py:36: FutureWarning: Conversion of the second argument of issubdtype from `float` to `np.floating` is deprecated. In future, it will be treated as `np.float64 == np.dtype(float).type`.\n",
      "  from ._conv import register_converters as _register_converters\n",
      "/Users/Lillian/qdev-wrappers/qdev_wrappers/logger.py:16: UserWarning: The logger.py of qdev-wrappers is deprecated and will be removed soon. Please use the logger of QCoDeS instead.\n",
      "  warnings.warn('The logger.py of qdev-wrappers is deprecated and will be '\n",
      "/Users/Lillian/qdev-wrappers/qdev_wrappers/station_configurator.py:21: UserWarning: ruamel yaml not found station configurator is falling back to pyyaml. It's highly recommended to install ruamel.yaml. This fixes issues with scientific notation and duplicate instruments in the YAML file\n",
      "  warnings.warn(\"ruamel yaml not found station configurator is falling back to pyyaml. \"\n"
     ]
    }
   ],
   "source": [
    "import qcodes as qc\n",
    "import numpy as np\n",
    "import yaml\n",
    "from qdev_wrappers.station_configurator import StationConfigurator\n",
    "from qdev_wrappers.customised_instruments.awg_interface import SimulatedAWGInterface\n",
    "from qdev_wrappers.customised_instruments.parametric_sequencer import ParametricSequencer\n",
    "from readout_template_element import create_readout_template_element\n",
    "\n",
    "\n",
    "from qcodes.instrument_drivers.Abaco.AbacoDac import AbacoDAC"
   ]
  },
  {
   "cell_type": "code",
   "execution_count": 2,
   "metadata": {},
   "outputs": [
    {
     "name": "stdout",
     "output_type": "stream",
     "text": [
      "uploading\n"
     ]
    },
    {
     "name": "stderr",
     "output_type": "stream",
     "text": [
      "/anaconda3/envs/qcodes/lib/python3.6/site-packages/matplotlib/axes/_base.py:3193: UserWarning: Attempting to set identical bottom==top results\n",
      "in singular transformations; automatically expanding.\n",
      "bottom=0.0, top=0.0\n",
      "  'bottom=%s, top=%s') % (bottom, top))\n"
     ]
    },
    {
     "data": {
      "image/png": "[encoded data removed]",
      "text/plain": [
       "<matplotlib.figure.Figure at 0x11a63e3c8>"
      ]
     },
     "metadata": {},
     "output_type": "display_data"
    }
   ],
   "source": [
    "with open('./pulse_building_defaults.yaml') as f:\n",
    "   initial_sequence_settings = yaml.safe_load(f) \n",
    "\n",
    "awg_interface = SimulatedAWGInterface()\n",
    "\n",
    "initial_template_element = create_readout_template_element()\n",
    "\n",
    "ps = ParametricSequencer('ps', template_element=initial_template_element,\n",
    "                                inner_setpoints=('dummy_param', [1]),\n",
    "                                context=initial_sequence_settings['context'],\n",
    "                                labels=initial_sequence_settings['labels'],\n",
    "                                units=initial_sequence_settings['units'],\n",
    "                                awg=awg_interface)"
   ]
  },
  {
   "cell_type": "code",
   "execution_count": 3,
   "metadata": {},
   "outputs": [
    {
     "data": {
      "text/plain": [
       "<SequenceChannel: ps_sequence_parameters of ParametricSequencer: ps>"
      ]
     },
     "execution_count": 3,
     "metadata": {},
     "output_type": "execute_result"
    }
   ],
   "source": [
    "ps.sequence"
   ]
  },
  {
   "cell_type": "code",
   "execution_count": 4,
   "metadata": {},
   "outputs": [
    {
     "data": {
      "text/plain": [
       "<lomentum.sequence.Sequence at 0x11a6356d8>"
      ]
     },
     "execution_count": 4,
     "metadata": {},
     "output_type": "execute_result"
    }
   ],
   "source": [
    "ps._sequence_object"
   ]
  },
  {
   "cell_type": "code",
   "execution_count": 5,
   "metadata": {},
   "outputs": [
    {
     "data": {
      "text/plain": [
       "[{'data': {3: array([0., 0., 0., ..., 0., 0., 0.]),\n",
       "   4: array([0., 0., 0., ..., 0., 0., 0.]),\n",
       "   1: array([0., 0., 0., ..., 0., 0., 0.]),\n",
       "   2: array([0., 0., 0., ..., 0., 0., 0.])},\n",
       "  'sequencing': {'nrep': 1, 'goto_state': 1}}]"
      ]
     },
     "execution_count": 5,
     "metadata": {},
     "output_type": "execute_result"
    }
   ],
   "source": [
    "import copy\n",
    "fs1 = ps._sequence_object.forge(SR=ps.awg.get_SR(), context=ps._sequence_context)\n",
    "fs1[0]['data'][1] = fs1[0]['data']['4M1']\n",
    "del(fs1[0]['data']['4M1'])\n",
    "fs1[0]['data'][2] = fs1[0]['data']['4M2']\n",
    "del(fs1[0]['data']['4M2'])\n",
    "fs1[0]['sequencing']['nrep'] = 1\n",
    "seq = [copy.deepcopy(d) for d in fs1]\n",
    "fs1[0]['sequencing']['nrep'] = 3\n",
    "seq.append(copy.deepcopy(fs1[0]))\n",
    "\n",
    "seq\n",
    "fs1[0]['sequencing']['nrep'] = 1\n",
    "fs1"
   ]
  },
  {
   "cell_type": "code",
   "execution_count": 20,
   "metadata": {},
   "outputs": [
    {
     "data": {
      "text/plain": [
       "[{'data': {3: array([0., 0., 0., ..., 0., 0., 0.]),\n",
       "   4: array([0., 0., 0., ..., 0., 0., 0.]),\n",
       "   1: array([0., 0., 0., ..., 0., 0., 0.]),\n",
       "   2: array([0., 0., 0., ..., 0., 0., 0.])},\n",
       "  'sequencing': {'nrep': 1, 'goto_state': 1}}]"
      ]
     },
     "execution_count": 20,
     "metadata": {},
     "output_type": "execute_result"
    }
   ],
   "source": [
    "fs1[0]"
   ]
  },
  {
   "cell_type": "code",
   "execution_count": 19,
   "metadata": {},
   "outputs": [],
   "source": [
    "V_PP_DC = 1.7\n",
    "V_PP_AC = 1\n",
    "\n",
    "max_16b2c = 32767 #maximum value in 16 bit twos complement format\n",
    "\n",
    "max_Vpp = V_PP_DC # (or V_PP_AC)\n",
    "\n",
    "Vpp = 1.5\n",
    "\n",
    "def twos_complement_val(array):\n",
    "    \"\"\"Takes array from sequence data, with all array values between -1 and 1.\n",
    "        \n",
    "    Returns an array with the values numbers converted to twos-complement data,\n",
    "    corresponding to voltages to be output. Voltages are converted based on the \n",
    "    parameter Vpp, such that 1 in the element data corresponds to the maximum \n",
    "    voltage, and -1 to the minimum voltage.\"\"\"\n",
    "    \n",
    "    #if not -Vpp/2 <= voltage <= Vpp/2:\n",
    "    #    raise TypeError(f'Allowed voltages are {-Vpp/2}V to {Vpp/2}V. ' \n",
    "    #                    f'Tried setting voltage to {voltage}V.')\n",
    "        # ToDo: add option for defining offset? Or is offset defined in the forged sequence?\n",
    "        # ToDo: where does the check go on the tetronix that tells you the voltage is out of bounds?\n",
    "    \n",
    "    amplitude_scaling = (Vpp/max_Vpp)\n",
    "    \n",
    "    new_array = (array * max_16b2c * amplitude_scaling).astype(int) \n",
    "        # ToDo: they still need to be made into integers\n",
    "        # ToDo: add peak-to-peak voltage as a parameter of the instrument\n",
    "    \n",
    "    return new_array\n"
   ]
  },
  {
   "cell_type": "code",
   "execution_count": 9,
   "metadata": {
    "scrolled": true
   },
   "outputs": [],
   "source": [
    "import io\n",
    "#header, data, foa = AbacoDAC._makeTextDataFile(seq, 1)\n",
    "header, data = AbacoDAC._makeTextDataFile(fs1, 2)"
   ]
  },
  {
   "cell_type": "code",
   "execution_count": 10,
   "metadata": {},
   "outputs": [],
   "source": [
    "test = io.StringIO()"
   ]
  },
  {
   "cell_type": "code",
   "execution_count": 11,
   "metadata": {},
   "outputs": [],
   "source": [
    "print('blah', file=test)"
   ]
  },
  {
   "cell_type": "code",
   "execution_count": 12,
   "metadata": {},
   "outputs": [
    {
     "data": {
      "text/plain": [
       "[]"
      ]
     },
     "execution_count": 12,
     "metadata": {},
     "output_type": "execute_result"
    }
   ],
   "source": [
    "test.readlines()"
   ]
  },
  {
   "cell_type": "code",
   "execution_count": 13,
   "metadata": {},
   "outputs": [
    {
     "data": {
      "text/plain": [
       "4"
      ]
     },
     "execution_count": 13,
     "metadata": {},
     "output_type": "execute_result"
    }
   ],
   "source": [
    "test.write('blah')"
   ]
  },
  {
   "cell_type": "code",
   "execution_count": 14,
   "metadata": {},
   "outputs": [
    {
     "data": {
      "text/plain": [
       "''"
      ]
     },
     "execution_count": 14,
     "metadata": {},
     "output_type": "execute_result"
    }
   ],
   "source": [
    "test.readline()"
   ]
  },
  {
   "cell_type": "code",
   "execution_count": 15,
   "metadata": {
    "scrolled": false
   },
   "outputs": [
    {
     "name": "stdout",
     "output_type": "stream",
     "text": [
      "blah\n",
      "blah\n"
     ]
    }
   ],
   "source": [
    "print(test.getvalue())"
   ]
  },
  {
   "cell_type": "code",
   "execution_count": 16,
   "metadata": {},
   "outputs": [
    {
     "data": {
      "text/plain": [
       "<_io.BytesIO at 0x1222d6c50>"
      ]
     },
     "execution_count": 16,
     "metadata": {},
     "output_type": "execute_result"
    }
   ],
   "source": [
    "data['_0']"
   ]
  },
  {
   "cell_type": "code",
   "execution_count": 17,
   "metadata": {},
   "outputs": [
    {
     "ename": "TypeError",
     "evalue": "string argument expected, got 'bytes'",
     "output_type": "error",
     "traceback": [
      "\u001b[0;31m---------------------------------------------------------------------------\u001b[0m",
      "\u001b[0;31mTypeError\u001b[0m                                 Traceback (most recent call last)",
      "\u001b[0;32m<ipython-input-17-4f1ce7378d45>\u001b[0m in \u001b[0;36m<module>\u001b[0;34m()\u001b[0m\n\u001b[1;32m      1\u001b[0m \u001b[0mfile\u001b[0m \u001b[0;34m=\u001b[0m \u001b[0mio\u001b[0m\u001b[0;34m.\u001b[0m\u001b[0mStringIO\u001b[0m\u001b[0;34m(\u001b[0m\u001b[0;34m)\u001b[0m\u001b[0;34m\u001b[0m\u001b[0;34m\u001b[0m\u001b[0m\n\u001b[1;32m      2\u001b[0m \u001b[0;34m\u001b[0m\u001b[0m\n\u001b[0;32m----> 3\u001b[0;31m \u001b[0mfile\u001b[0m\u001b[0;34m.\u001b[0m\u001b[0mwrite\u001b[0m\u001b[0;34m(\u001b[0m\u001b[0mheader\u001b[0m\u001b[0;34m.\u001b[0m\u001b[0mgetvalue\u001b[0m\u001b[0;34m(\u001b[0m\u001b[0;34m)\u001b[0m\u001b[0;34m)\u001b[0m\u001b[0;34m\u001b[0m\u001b[0;34m\u001b[0m\u001b[0m\n\u001b[0m\u001b[1;32m      4\u001b[0m \u001b[0mfile\u001b[0m\u001b[0;34m.\u001b[0m\u001b[0mwrite\u001b[0m\u001b[0;34m(\u001b[0m\u001b[0mdata\u001b[0m\u001b[0;34m[\u001b[0m\u001b[0;34m'_0'\u001b[0m\u001b[0;34m]\u001b[0m\u001b[0;34m.\u001b[0m\u001b[0mgetvalue\u001b[0m\u001b[0;34m(\u001b[0m\u001b[0;34m)\u001b[0m\u001b[0;34m)\u001b[0m\u001b[0;34m\u001b[0m\u001b[0;34m\u001b[0m\u001b[0m\n",
      "\u001b[0;31mTypeError\u001b[0m: string argument expected, got 'bytes'"
     ]
    }
   ],
   "source": [
    "file = io.StringIO()\n",
    "\n",
    "file.write(header.getvalue())\n",
    "file.write(data['_0'].getvalue())"
   ]
  },
  {
   "cell_type": "code",
   "execution_count": null,
   "metadata": {},
   "outputs": [],
   "source": [
    "import shutil\n",
    "\n",
    "dformat=1\n",
    "FILENAME = 'does_this_work_{}.{}'\n",
    "\n",
    "if dformat == 1:\n",
    "    file_access = 'w'\n",
    "else:\n",
    "    file_access = 'wb'\n",
    "\n",
    "# write files to disk\n",
    "for i in range(1):\n",
    "    with open(FILENAME.format(i, 'txt'), file_access) as fd:\n",
    "        file.seek(0)\n",
    "        shutil.copyfileobj(file, fd)"
   ]
  },
  {
   "cell_type": "code",
   "execution_count": null,
   "metadata": {},
   "outputs": [],
   "source": [
    "print(header.getvalue())"
   ]
  },
  {
   "cell_type": "code",
   "execution_count": 18,
   "metadata": {},
   "outputs": [
    {
     "name": "stdout",
     "output_type": "stream",
     "text": [
      "_0\n",
      "_1\n"
     ]
    }
   ],
   "source": [
    "AbacoDAC._create_files(header, data, 2)"
   ]
  },
  {
   "cell_type": "code",
   "execution_count": null,
   "metadata": {},
   "outputs": [],
   "source": [
    "data"
   ]
  },
  {
   "cell_type": "code",
   "execution_count": null,
   "metadata": {},
   "outputs": [],
   "source": [
    "for i in data:\n",
    "    print(data[i])"
   ]
  },
  {
   "cell_type": "code",
   "execution_count": null,
   "metadata": {},
   "outputs": [],
   "source": [
    "    def forged_seq_array_to_16b2c(self, array):\n",
    "        amplitude_scaling = self.Vpp/self.max_Vpp\n",
    "        # ToDo: Vpp and max_Vpp need to be added as parameters\n",
    "        return np.fix(array * self.max_16b2c * amplitude_scaling)"
   ]
  }
 ],
 "metadata": {
  "kernelspec": {
   "display_name": "Python 3",
   "language": "python",
   "name": "python3"
  },
  "language_info": {
   "codemirror_mode": {
    "name": "ipython",
    "version": 3
   },
   "file_extension": ".py",
   "mimetype": "text/x-python",
   "name": "python",
   "nbconvert_exporter": "python",
   "pygments_lexer": "ipython3",
   "version": "3.6.8"
  }
 },
 "nbformat": 4,
 "nbformat_minor": 2
}
